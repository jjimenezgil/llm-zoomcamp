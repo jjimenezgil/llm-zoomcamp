{
 "cells": [
  {
   "cell_type": "markdown",
   "id": "184ee1b9-fd92-4063-9e0b-ee0b0e21bae0",
   "metadata": {},
   "source": [
    "# Homework: Vector Search\n",
    "\n",
    "\n",
    "### Imports"
   ]
  },
  {
   "cell_type": "code",
   "execution_count": 30,
   "id": "4726353b-1bc8-4910-9b5b-657c9dbd8c49",
   "metadata": {},
   "outputs": [],
   "source": [
    "from sentence_transformers import SentenceTransformer\n",
    "import requests \n",
    "import numpy as np\n",
    "from tqdm.notebook import trange, tqdm\n",
    "import pandas as pd\n",
    "from elasticsearch import Elasticsearch"
   ]
  },
  {
   "cell_type": "markdown",
   "id": "e0a38f0d-955a-4c8e-85d0-69853f6c38b1",
   "metadata": {},
   "source": [
    "## Q1. Getting the embeddings model"
   ]
  },
  {
   "cell_type": "markdown",
   "id": "5b26ebfa-30c5-4821-bd86-70060bb41ab4",
   "metadata": {},
   "source": [
    "First we obtain the model that will be used to generate the embeddings."
   ]
  },
  {
   "cell_type": "code",
   "execution_count": 23,
   "id": "fb8a27cd-2d4e-4ffe-a8c1-ba88e2a42f8e",
   "metadata": {},
   "outputs": [],
   "source": [
    "model_name = 'multi-qa-distilbert-cos-v1'\n",
    "embedding_model = SentenceTransformer(model_name)"
   ]
  },
  {
   "cell_type": "markdown",
   "id": "157cd39c-a38a-4a38-9112-a7025ef812f8",
   "metadata": {},
   "source": [
    "Then, a user question is generated and its embedding is computed."
   ]
  },
  {
   "cell_type": "code",
   "execution_count": 3,
   "id": "b3641d0b-0bde-46c2-bda1-97a61ba9106a",
   "metadata": {},
   "outputs": [
    {
     "name": "stdout",
     "output_type": "stream",
     "text": [
      "0.078222655\n"
     ]
    }
   ],
   "source": [
    "user_question = \"I just discovered the course. Can I still join it?\"\n",
    "user_question_emb = embedding_model.encode(user_question)\n",
    "print(user_question_emb[0])"
   ]
  },
  {
   "cell_type": "markdown",
   "id": "88819039-0bd9-45c7-9146-356a641c1141",
   "metadata": {},
   "source": [
    "**Answer**: 0.07\n",
    "\n",
    "## Q2. Creating the embeddings\n",
    "\n",
    "First, we will prepare the documents list (with ids already included)."
   ]
  },
  {
   "cell_type": "code",
   "execution_count": 4,
   "id": "13301ab3-9ca9-47ad-b54c-6fef6474f363",
   "metadata": {},
   "outputs": [],
   "source": [
    "base_url = 'https://github.com/DataTalksClub/llm-zoomcamp/blob/main'\n",
    "relative_url = '03-vector-search/eval/documents-with-ids.json'\n",
    "docs_url = f'{base_url}/{relative_url}?raw=1'\n",
    "docs_response = requests.get(docs_url)\n",
    "documents = docs_response.json()"
   ]
  },
  {
   "cell_type": "code",
   "execution_count": 24,
   "id": "80d93887-bb5c-4177-b752-57f6b6ef49c7",
   "metadata": {},
   "outputs": [
    {
     "data": {
      "text/plain": [
       "{'text': \"The purpose of this document is to capture frequently asked technical questions\\nThe exact day and hour of the course will be 15th Jan 2024 at 17h00. The course will start with the first  “Office Hours'' live.1\\nSubscribe to course public Google Calendar (it works from Desktop only).\\nRegister before the course starts using this link.\\nJoin the course Telegram channel with announcements.\\nDon’t forget to register in DataTalks.Club's Slack and join the channel.\",\n",
       " 'section': 'General course-related questions',\n",
       " 'question': 'Course - When will the course start?',\n",
       " 'course': 'data-engineering-zoomcamp',\n",
       " 'id': 'c02e79ef'}"
      ]
     },
     "execution_count": 24,
     "metadata": {},
     "output_type": "execute_result"
    }
   ],
   "source": [
    "documents[0]"
   ]
  },
  {
   "cell_type": "markdown",
   "id": "3c8ccc03-3a28-4089-80c8-7d58ec358e92",
   "metadata": {},
   "source": [
    "We will only need the subset of questions regarding *machine-learning-zoomcamp*. Let's filter."
   ]
  },
  {
   "cell_type": "code",
   "execution_count": 25,
   "id": "6155a3fe-a514-487e-8bc3-6abaefd1cef6",
   "metadata": {},
   "outputs": [
    {
     "name": "stdout",
     "output_type": "stream",
     "text": [
      "375\n"
     ]
    }
   ],
   "source": [
    "documents_filtered = [doc for doc in documents if doc['course'] == 'machine-learning-zoomcamp']\n",
    "print(len(documents_filtered))"
   ]
  },
  {
   "cell_type": "markdown",
   "id": "3a93855e-7e00-4488-8e13-f983962fcbad",
   "metadata": {},
   "source": [
    "Now it is time to generate the embedding for both question and answer fields of all the documents."
   ]
  },
  {
   "cell_type": "code",
   "execution_count": 26,
   "id": "4260e843-1525-43c5-9fb3-2e77c3e67ae5",
   "metadata": {},
   "outputs": [
    {
     "data": {
      "application/vnd.jupyter.widget-view+json": {
       "model_id": "4b30d66885be4d07a311f37b2f66950a",
       "version_major": 2,
       "version_minor": 0
      },
      "text/plain": [
       "  0%|          | 0/375 [00:00<?, ?it/s]"
      ]
     },
     "metadata": {},
     "output_type": "display_data"
    }
   ],
   "source": [
    "embeddings = []\n",
    "\n",
    "for doc in tqdm(documents_filtered):\n",
    "    qa_text = f\"{doc['question']} {doc['text']}\"\n",
    "    question_text_vector = embedding_model.encode(qa_text)\n",
    "    # Add the embedding to the document (will be useful later when using elasticsearch)\n",
    "    doc['question_text_vector'] = question_text_vector\n",
    "    # Add the embedding to the embeddings list\n",
    "    embeddings.append(question_text_vector)\n",
    "    \n",
    "\n",
    "X = np.array(embeddings)"
   ]
  },
  {
   "cell_type": "code",
   "execution_count": 27,
   "id": "973ae4bf-e5f7-4e91-acd4-d09f624626cb",
   "metadata": {},
   "outputs": [
    {
     "name": "stdout",
     "output_type": "stream",
     "text": [
      "(375, 768)\n"
     ]
    }
   ],
   "source": [
    "print(X.shape)"
   ]
  },
  {
   "cell_type": "markdown",
   "id": "cf71053b-8d8d-4b24-b3a0-1d30af0b7f09",
   "metadata": {},
   "source": [
    "**Answer**: (375, 768)\n",
    "\n",
    "## Q3. Search\n",
    "\n",
    "Let's calculate the similarity between the user question from Q1 and the documents from Q2, using the calculated embeddings and the dot product."
   ]
  },
  {
   "cell_type": "code",
   "execution_count": 9,
   "id": "3fcf1484-94ea-4445-89b5-94d1bd2b224b",
   "metadata": {},
   "outputs": [],
   "source": [
    "scores = X.dot(user_question_emb)"
   ]
  },
  {
   "cell_type": "code",
   "execution_count": 10,
   "id": "96d2d033-5d5e-4713-a911-d1df2b6e3046",
   "metadata": {},
   "outputs": [
    {
     "data": {
      "text/plain": [
       "0.6506573"
      ]
     },
     "execution_count": 10,
     "metadata": {},
     "output_type": "execute_result"
    }
   ],
   "source": [
    "max(scores)"
   ]
  },
  {
   "cell_type": "markdown",
   "id": "de4d688a-cdf2-4e68-935b-7939f39c6074",
   "metadata": {},
   "source": [
    "**Answer**: 0.65\n",
    "\n",
    "## Q4. Hit-rate for our search engine\n",
    "\n",
    "First we need to generate the class that performs the vector search."
   ]
  },
  {
   "cell_type": "code",
   "execution_count": 11,
   "id": "8d3c7f2e-0807-42bd-9c74-6772dc646fd6",
   "metadata": {},
   "outputs": [],
   "source": [
    "class VectorSearchEngine():\n",
    "    def __init__(self, documents, embeddings):\n",
    "        self.documents = documents\n",
    "        self.embeddings = embeddings\n",
    "\n",
    "    def search(self, v_query, num_results=10):\n",
    "        scores = self.embeddings.dot(v_query)\n",
    "        idx = np.argsort(-scores)[:num_results]\n",
    "        return [self.documents[i] for i in idx]"
   ]
  },
  {
   "cell_type": "markdown",
   "id": "d102ee3a-91a7-43a9-b2ed-f1c9dd3280cd",
   "metadata": {},
   "source": [
    "Use the previous class functions to perform vector search."
   ]
  },
  {
   "cell_type": "code",
   "execution_count": 12,
   "id": "cc3971b8-1cb9-45e3-ae16-a24ec417b87c",
   "metadata": {},
   "outputs": [
    {
     "data": {
      "text/plain": [
       "[{'text': 'Yes, you can. You won’t be able to submit some of the homeworks, but you can still take part in the course.\\nIn order to get a certificate, you need to submit 2 out of 3 course projects and review 3 peers’ Projects by the deadline. It means that if you join the course at the end of November and manage to work on two projects, you will still be eligible for a certificate.',\n",
       "  'section': 'General course-related questions',\n",
       "  'question': 'The course has already started. Can I still join it?',\n",
       "  'course': 'machine-learning-zoomcamp',\n",
       "  'id': 'ee58a693'},\n",
       " {'text': 'Welcome to the course! Go to the course page (http://mlzoomcamp.com/), scroll down and start going through the course materials. Then read everything in the cohort folder for your cohort’s year.\\nClick on the links and start watching the videos. Also watch office hours from previous cohorts. Go to DTC youtube channel and click on Playlists and search for {course yyyy}. ML Zoomcamp was first launched in 2021.\\nOr you can just use this link: http://mlzoomcamp.com/#syllabus',\n",
       "  'section': 'General course-related questions',\n",
       "  'question': 'I just joined. What should I do next? How can I access course materials?',\n",
       "  'course': 'machine-learning-zoomcamp',\n",
       "  'id': '0a278fb2'},\n",
       " {'text': \"The process is automated now, so you should receive the email eventually. If you haven’t, check your promotions tab in Gmail as well as spam.\\nIf you unsubscribed from our newsletter, you won't get course related updates too.\\nBut don't worry, it’s not a problem. To make sure you don’t miss anything, join the #course-ml-zoomcamp channel in Slack and our telegram channel with announcements. This is enough to follow the course.\",\n",
       "  'section': 'General course-related questions',\n",
       "  'question': \"I filled the form, but haven't received a confirmation email. Is it normal?\",\n",
       "  'course': 'machine-learning-zoomcamp',\n",
       "  'id': '6ba259b1'},\n",
       " {'text': 'Technically, yes. Advisable? Not really. Reasons:\\nSome homework(s) asks for specific python library versions.\\nAnswers may not match in MCQ options if using different languages other than Python 3.10 (the recommended version for 2023 cohort)\\nAnd as for midterms/capstones, your peer-reviewers may not know these other languages. Do you want to be penalized for others not knowing these other languages?\\nYou can create a separate repo using course’s lessons but written in other languages for your own learnings, but not advisable for submissions.\\ntx[source]',\n",
       "  'section': 'Miscellaneous',\n",
       "  'question': 'Can I do the course in other languages, like R or Scala?',\n",
       "  'course': 'machine-learning-zoomcamp',\n",
       "  'id': '9f261648'},\n",
       " {'text': 'We won’t re-record the course videos. The focus of the course and the skills we want to teach remained the same, and the videos are still up-to-date.\\nIf you haven’t taken part in the previous iteration, you can start watching the videos. It’ll be useful for you and you will learn new things. However, we recommend using Python 3.10 now instead of Python 3.8.',\n",
       "  'section': 'General course-related questions',\n",
       "  'question': 'The course videos are from the previous iteration. Will you release new ones or we’ll use the videos from 2021?',\n",
       "  'course': 'machine-learning-zoomcamp',\n",
       "  'id': 'e7ba6b8a'}]"
      ]
     },
     "execution_count": 12,
     "metadata": {},
     "output_type": "execute_result"
    }
   ],
   "source": [
    "search_engine = VectorSearchEngine(documents=documents_filtered, embeddings=X)\n",
    "search_engine.search(user_question_emb, num_results=5)"
   ]
  },
  {
   "cell_type": "markdown",
   "id": "cba61f9c-c9a3-4bd9-a755-40d81d257665",
   "metadata": {},
   "source": [
    "It can be seen that the retrieved documents are related with the user question from Q1. In order to evaluate the performance of the search engine (using hit-rate metric in this case) first we will need to download the ground truth dataset."
   ]
  },
  {
   "cell_type": "code",
   "execution_count": 13,
   "id": "16a2da57-2b65-45fd-9b5f-99bff3c2cc37",
   "metadata": {},
   "outputs": [],
   "source": [
    "base_url = 'https://github.com/DataTalksClub/llm-zoomcamp/blob/main'\n",
    "relative_url = '03-vector-search/eval/ground-truth-data.csv'\n",
    "ground_truth_url = f'{base_url}/{relative_url}?raw=1'\n",
    "\n",
    "df_ground_truth = pd.read_csv(ground_truth_url)\n",
    "df_ground_truth = df_ground_truth[df_ground_truth.course == 'machine-learning-zoomcamp']\n",
    "ground_truth = df_ground_truth.to_dict(orient='records')"
   ]
  },
  {
   "cell_type": "code",
   "execution_count": 14,
   "id": "17f7aae0-2ccd-4bef-bafd-b8c5c9aae868",
   "metadata": {},
   "outputs": [
    {
     "data": {
      "text/plain": [
       "{'question': 'Where can I sign up for the course?',\n",
       " 'course': 'machine-learning-zoomcamp',\n",
       " 'document': '0227b872'}"
      ]
     },
     "execution_count": 14,
     "metadata": {},
     "output_type": "execute_result"
    }
   ],
   "source": [
    "ground_truth[0]"
   ]
  },
  {
   "cell_type": "markdown",
   "id": "ee3c3e36-88b1-4500-94f3-d7048bd12d93",
   "metadata": {},
   "source": [
    "Each element on the list corresponds to a question (generated using an LLM) and the id of the main document answering that question. Our search engine, when answering these questions, should include the related documents in the first K retrieved results. This is what we are going to measure with the hit-rate metric."
   ]
  },
  {
   "cell_type": "code",
   "execution_count": 15,
   "id": "e40dace6-48bf-4589-8f12-66ff7c26e821",
   "metadata": {},
   "outputs": [
    {
     "data": {
      "application/vnd.jupyter.widget-view+json": {
       "model_id": "609dc45e6c344bd0a8b5ae2e9dba83d0",
       "version_major": 2,
       "version_minor": 0
      },
      "text/plain": [
       "  0%|          | 0/1830 [00:00<?, ?it/s]"
      ]
     },
     "metadata": {},
     "output_type": "display_data"
    }
   ],
   "source": [
    "# Num of retrieved documents for each question\n",
    "num_results = 5\n",
    "\n",
    "# Num of total questions to search in the ground truth dataset\n",
    "q_total = len(ground_truth)\n",
    "\n",
    "# Count of total hits over the ground truth dataset\n",
    "hit_count = 0\n",
    "\n",
    "# The search engine has been already initialized with the correct documents and embeddings, so we can directly perform the search\n",
    "for q in tqdm(ground_truth):\n",
    "    # Compute embedding of the ground truth question\n",
    "    q_emb = embedding_model.encode(q['question'])\n",
    "    # Perform search\n",
    "    results = search_engine.search(q_emb, num_results=num_results)\n",
    "    # Check if the results contain the correct document and increase hit count\n",
    "    for r in results:\n",
    "        if r['id']==q['document']:\n",
    "            hit_count = hit_count+1\n",
    "            break"
   ]
  },
  {
   "cell_type": "code",
   "execution_count": 16,
   "id": "d6ebb45d-ca2f-4859-9a70-ae25edbafc21",
   "metadata": {},
   "outputs": [
    {
     "name": "stdout",
     "output_type": "stream",
     "text": [
      "0.9398907103825137\n"
     ]
    }
   ],
   "source": [
    "hit_rate = hit_count / q_total\n",
    "print(hit_rate)"
   ]
  },
  {
   "cell_type": "markdown",
   "id": "db043b19-7ec3-471a-97f8-85e60ba4e677",
   "metadata": {},
   "source": [
    "**Answer**: 0.93\n",
    "\n",
    "## Q5. Indexing with Elasticsearch\n",
    "\n",
    "In first place, let's run Elasticsearch and create the index as in the videos (but changing the dimension of the vector to 768)."
   ]
  },
  {
   "cell_type": "code",
   "execution_count": 31,
   "id": "ee3f4989-3b0e-4495-b800-7f734e8b2fa4",
   "metadata": {},
   "outputs": [
    {
     "data": {
      "text/plain": [
       "ObjectApiResponse({'name': 'e2cd10f17273', 'cluster_name': 'docker-cluster', 'cluster_uuid': 'fa3BioAuRB6AKxi3t1PgiA', 'version': {'number': '8.4.3', 'build_flavor': 'default', 'build_type': 'docker', 'build_hash': '42f05b9372a9a4a470db3b52817899b99a76ee73', 'build_date': '2022-10-04T07:17:24.662462378Z', 'build_snapshot': False, 'lucene_version': '9.3.0', 'minimum_wire_compatibility_version': '7.17.0', 'minimum_index_compatibility_version': '7.0.0'}, 'tagline': 'You Know, for Search'})"
      ]
     },
     "execution_count": 31,
     "metadata": {},
     "output_type": "execute_result"
    }
   ],
   "source": [
    "# Connect with elasticsearch\n",
    "es_client = Elasticsearch(\"http://localhost:9200\")\n",
    "es_client.info()"
   ]
  },
  {
   "cell_type": "code",
   "execution_count": 32,
   "id": "ecb68040-3ca1-480c-aa7b-e845eb88c776",
   "metadata": {},
   "outputs": [
    {
     "data": {
      "text/plain": [
       "ObjectApiResponse({'acknowledged': True, 'shards_acknowledged': True, 'index': 'course-questions'})"
      ]
     },
     "execution_count": 32,
     "metadata": {},
     "output_type": "execute_result"
    }
   ],
   "source": [
    "# Index\n",
    "index_settings = {\n",
    "    \"settings\": {\n",
    "        \"number_of_shards\": 1,\n",
    "        \"number_of_replicas\": 0\n",
    "    },\n",
    "    \"mappings\": {\n",
    "        \"properties\": {\n",
    "            \"text\": {\"type\": \"text\"},\n",
    "            \"section\": {\"type\": \"text\"},\n",
    "            \"question\": {\"type\": \"text\"},\n",
    "            \"course\": {\"type\": \"keyword\"},\n",
    "            \"id\": {\"type\": \"keyword\"},\n",
    "            \"question_text_vector\": {\n",
    "                \"type\": \"dense_vector\",\n",
    "                \"dims\": 768,\n",
    "                \"index\": True,\n",
    "                \"similarity\": \"cosine\"\n",
    "            },\n",
    "        }\n",
    "    }\n",
    "}\n",
    "\n",
    "index_name = \"course-questions\"\n",
    "\n",
    "es_client.indices.delete(index=index_name, ignore_unavailable=True)\n",
    "es_client.indices.create(index=index_name, body=index_settings)"
   ]
  },
  {
   "cell_type": "markdown",
   "id": "7a9168c6-0a4a-4ada-a68e-0e976aff8db2",
   "metadata": {},
   "source": [
    "Now that the index has been created, the documents can be indexed."
   ]
  },
  {
   "cell_type": "code",
   "execution_count": 33,
   "id": "57121fb0-7996-4e4d-aef1-e28dd3e91d16",
   "metadata": {},
   "outputs": [
    {
     "data": {
      "application/vnd.jupyter.widget-view+json": {
       "model_id": "8be4b1276cde473ab69bef6bb6d21ca2",
       "version_major": 2,
       "version_minor": 0
      },
      "text/plain": [
       "  0%|          | 0/375 [00:00<?, ?it/s]"
      ]
     },
     "metadata": {},
     "output_type": "display_data"
    }
   ],
   "source": [
    "for doc in tqdm(documents_filtered):\n",
    "    es_client.index(index=index_name, document=doc)"
   ]
  },
  {
   "cell_type": "markdown",
   "id": "ae7f3c74-bf1c-4bf5-9d2d-235d9a089e18",
   "metadata": {},
   "source": [
    "Let's create a function that allow us to perform the search of any question in the indexed documents."
   ]
  },
  {
   "cell_type": "code",
   "execution_count": 55,
   "id": "70a5a35a-4e92-4d3f-9aac-1a77b0bdfa04",
   "metadata": {},
   "outputs": [],
   "source": [
    "def elastic_search_knn(query_vector):\n",
    "    knn = {\n",
    "        \"field\": \"question_text_vector\",\n",
    "        \"query_vector\": query_vector,\n",
    "        \"k\": 5,\n",
    "        \"num_candidates\": 10000\n",
    "    }\n",
    "\n",
    "    search_query = {\n",
    "        \"knn\": knn,\n",
    "        \"_source\": [\"text\", \"section\", \"question\", \"course\", \"id\"]\n",
    "    }\n",
    "\n",
    "    es_results = es_client.search(\n",
    "        index=index_name,\n",
    "        body=search_query\n",
    "    )\n",
    "\n",
    "    result_docs = []\n",
    "    \n",
    "    for hit in es_results['hits']['hits']:\n",
    "        result_dict = {}\n",
    "        result_dict['text'] = hit['_source']['text']\n",
    "        result_dict['section'] = hit['_source']['section']\n",
    "        result_dict['question'] = hit['_source']['question']\n",
    "        result_dict['course'] = hit['_source']['course']\n",
    "        result_dict['id'] = hit['_source']['id']\n",
    "        result_dict['score'] = hit['_score']\n",
    "        result_docs.append(result_dict)\n",
    "\n",
    "\n",
    "    return result_docs"
   ]
  },
  {
   "cell_type": "markdown",
   "id": "5cdc15eb-88e6-418f-8045-51ce098db681",
   "metadata": {},
   "source": [
    "Finally, we can use the previous function to perform the same search as in Q1."
   ]
  },
  {
   "cell_type": "code",
   "execution_count": 56,
   "id": "2f6f27d5-dff1-4a25-b99a-1d7bdaeeb135",
   "metadata": {},
   "outputs": [
    {
     "data": {
      "text/plain": [
       "[{'text': 'Yes, you can. You won’t be able to submit some of the homeworks, but you can still take part in the course.\\nIn order to get a certificate, you need to submit 2 out of 3 course projects and review 3 peers’ Projects by the deadline. It means that if you join the course at the end of November and manage to work on two projects, you will still be eligible for a certificate.',\n",
       "  'section': 'General course-related questions',\n",
       "  'question': 'The course has already started. Can I still join it?',\n",
       "  'course': 'machine-learning-zoomcamp',\n",
       "  'id': 'ee58a693',\n",
       "  'score': 0.82532895},\n",
       " {'text': 'Welcome to the course! Go to the course page (http://mlzoomcamp.com/), scroll down and start going through the course materials. Then read everything in the cohort folder for your cohort’s year.\\nClick on the links and start watching the videos. Also watch office hours from previous cohorts. Go to DTC youtube channel and click on Playlists and search for {course yyyy}. ML Zoomcamp was first launched in 2021.\\nOr you can just use this link: http://mlzoomcamp.com/#syllabus',\n",
       "  'section': 'General course-related questions',\n",
       "  'question': 'I just joined. What should I do next? How can I access course materials?',\n",
       "  'course': 'machine-learning-zoomcamp',\n",
       "  'id': '0a278fb2',\n",
       "  'score': 0.73585373},\n",
       " {'text': \"The process is automated now, so you should receive the email eventually. If you haven’t, check your promotions tab in Gmail as well as spam.\\nIf you unsubscribed from our newsletter, you won't get course related updates too.\\nBut don't worry, it’s not a problem. To make sure you don’t miss anything, join the #course-ml-zoomcamp channel in Slack and our telegram channel with announcements. This is enough to follow the course.\",\n",
       "  'section': 'General course-related questions',\n",
       "  'question': \"I filled the form, but haven't received a confirmation email. Is it normal?\",\n",
       "  'course': 'machine-learning-zoomcamp',\n",
       "  'id': '6ba259b1',\n",
       "  'score': 0.7295},\n",
       " {'text': 'Technically, yes. Advisable? Not really. Reasons:\\nSome homework(s) asks for specific python library versions.\\nAnswers may not match in MCQ options if using different languages other than Python 3.10 (the recommended version for 2023 cohort)\\nAnd as for midterms/capstones, your peer-reviewers may not know these other languages. Do you want to be penalized for others not knowing these other languages?\\nYou can create a separate repo using course’s lessons but written in other languages for your own learnings, but not advisable for submissions.\\ntx[source]',\n",
       "  'section': 'Miscellaneous',\n",
       "  'question': 'Can I do the course in other languages, like R or Scala?',\n",
       "  'course': 'machine-learning-zoomcamp',\n",
       "  'id': '9f261648',\n",
       "  'score': 0.72849524},\n",
       " {'text': 'We won’t re-record the course videos. The focus of the course and the skills we want to teach remained the same, and the videos are still up-to-date.\\nIf you haven’t taken part in the previous iteration, you can start watching the videos. It’ll be useful for you and you will learn new things. However, we recommend using Python 3.10 now instead of Python 3.8.',\n",
       "  'section': 'General course-related questions',\n",
       "  'question': 'The course videos are from the previous iteration. Will you release new ones or we’ll use the videos from 2021?',\n",
       "  'course': 'machine-learning-zoomcamp',\n",
       "  'id': 'e7ba6b8a',\n",
       "  'score': 0.7252791}]"
      ]
     },
     "execution_count": 56,
     "metadata": {},
     "output_type": "execute_result"
    }
   ],
   "source": [
    "# Execute search\n",
    "results = elastic_search_knn(user_question_emb)\n",
    "\n",
    "# Show results\n",
    "results"
   ]
  },
  {
   "cell_type": "code",
   "execution_count": 58,
   "id": "d91a7226-a4de-4f8b-b5bf-63375ded7d2f",
   "metadata": {},
   "outputs": [
    {
     "name": "stdout",
     "output_type": "stream",
     "text": [
      "The max score belongs to the first result. Score: 0.82532895, Document ID: ee58a693\n"
     ]
    }
   ],
   "source": [
    "print(f\"The max score belongs to the first result. Score: {results[0]['score']}, Document ID: {results[0]['id']}\")"
   ]
  },
  {
   "cell_type": "markdown",
   "id": "82d6d6a0-7347-4ebf-8690-4d132f559f4f",
   "metadata": {},
   "source": [
    "**Answer**: ee58a693\n",
    "\n",
    "## Q6. Hit-rate for Elasticsearch\n"
   ]
  }
 ],
 "metadata": {
  "kernelspec": {
   "display_name": "Python 3 (ipykernel)",
   "language": "python",
   "name": "python3"
  },
  "language_info": {
   "codemirror_mode": {
    "name": "ipython",
    "version": 3
   },
   "file_extension": ".py",
   "mimetype": "text/x-python",
   "name": "python",
   "nbconvert_exporter": "python",
   "pygments_lexer": "ipython3",
   "version": "3.10.13"
  }
 },
 "nbformat": 4,
 "nbformat_minor": 5
}
